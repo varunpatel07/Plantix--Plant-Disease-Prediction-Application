{
 "cells": [
  {
   "cell_type": "code",
   "execution_count": null,
   "metadata": {},
   "outputs": [],
   "source": [
    "import tensorflow\n",
    "import pickle\n",
    "import cv2\n",
    "import numpy as np\n",
    "from tensorflow.keras.models import load_model\n",
    "instance=pickle.load(open(r\"/content/Label_Instance.pkl\",\"rb\"))\n",
    "mod=load_model(r\"/content/model.h5\")\n",
    "img = cv2.imread(r'/content/PotatoEarlyBlight2.JPG')\n",
    "img = cv2.resize(img,(256,256))\n",
    "img = np.reshape(img,[1,256,256,3])\n",
    "img=img/255.0\n",
    "max_val=np.argmax(mod.predict(img))\n",
    "label=instance.classes_[max_val]\n",
    "print(label)"
   ]
  }
 ],
 "metadata": {
  "kernelspec": {
   "display_name": "Python 3",
   "language": "python",
   "name": "python3"
  },
  "language_info": {
   "codemirror_mode": {
    "name": "ipython",
    "version": 3
   },
   "file_extension": ".py",
   "mimetype": "text/x-python",
   "name": "python",
   "nbconvert_exporter": "python",
   "pygments_lexer": "ipython3",
   "version": "3.6.5"
  }
 },
 "nbformat": 4,
 "nbformat_minor": 2
}
